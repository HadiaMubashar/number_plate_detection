{
 "cells": [
  {
   "cell_type": "code",
   "execution_count": 4,
   "id": "da3a8683",
   "metadata": {},
   "outputs": [],
   "source": [
    "import numpy as np\n",
    "import cv2"
   ]
  },
  {
   "cell_type": "code",
   "execution_count": 5,
   "id": "d8e8ab2a",
   "metadata": {},
   "outputs": [],
   "source": [
    "minArea = 200\n",
    "count = 0\n",
    "color = (255, 0, 255)\n",
    "img = cv2.imread(\"Resources/car.jpg\")\n",
    "gray = cv2.cvtColor(img, cv2.COLOR_BGR2GRAY)\n",
    "\n",
    "haar_cascade = cv2.CascadeClassifier(\"XML//haarcascade_russian_plate_number.xml\")\n",
    " \n",
    "numberPlates = haar_cascade.detectMultiScale(gray, 1.1, 10)\n",
    "\n",
    "for (x, y, w, h) in numberPlates:\n",
    "    area = w * h\n",
    "    if area > minArea:        \n",
    "        cv2.rectangle(img, (x, y), (x + w, y + h), (255, 0, 255), 2)\n",
    "        cv2.putText (img, \"Number Plate\",(x, y-5),cv2.FONT_HERSHEY_COMPLEX_SMALL ,1,color, 2)\n",
    "        imgRoi = img [y:y+h,x:x+w]\n",
    "        cv2.imshow(\"ROI\", imgRoi)\n",
    "        \n",
    "cv2.imshow(\"Detected Number Plate\",img)\n",
    "k = cv2.waitKey(0)\n",
    "if k == 27:\n",
    "    cv2.destroyAllWindows()\n",
    "    \n",
    "if cv2.waitKey(0) & 0xFF == ord('s'):\n",
    "    cv2.imwrite(\"Resources/Detected/detectednumberplate.jpg\", img)\n",
    "    cv2.imwrite(\"Resources/Detected/NoPlate_\"+str(count)+\".jpg\",imgRoi)\n",
    "    cv2.rectangle(img,(0,120),(330,80),(0,255,0), cv2.FILLED)\n",
    "    cv2.putText (img, \"Scan Saved\",(120, 105),cv2.FONT_HERSHEY_DUPLEX,0.6,(0, 0, 255) , 1)\n",
    "    cv2.imshow(\"Result\",img)\n",
    "    cv2.waitKey(500)\n",
    "    cv2.destroyAllWindows()\n",
    "    count +=1"
   ]
  },
  {
   "cell_type": "code",
   "execution_count": 6,
   "id": "4d43e75b",
   "metadata": {},
   "outputs": [
    {
     "data": {
      "text/plain": [
       "(217, 325, 3)"
      ]
     },
     "execution_count": 6,
     "metadata": {},
     "output_type": "execute_result"
    }
   ],
   "source": [
    "img.shape"
   ]
  }
 ],
 "metadata": {
  "kernelspec": {
   "display_name": "Python 3 (ipykernel)",
   "language": "python",
   "name": "python3"
  },
  "language_info": {
   "codemirror_mode": {
    "name": "ipython",
    "version": 3
   },
   "file_extension": ".py",
   "mimetype": "text/x-python",
   "name": "python",
   "nbconvert_exporter": "python",
   "pygments_lexer": "ipython3",
   "version": "3.10.12"
  }
 },
 "nbformat": 4,
 "nbformat_minor": 5
}
